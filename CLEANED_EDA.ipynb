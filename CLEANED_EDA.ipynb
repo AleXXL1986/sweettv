{
 "cells": [
  {
   "cell_type": "markdown",
   "metadata": {},
   "source": [
    "Для решения мы использовали не машинно обученную модель.\n",
    "1. Отсекали шоу по доле просмотра пользователем с коэф. 0.5  \n",
    "2. Далее для каждого пользователя брали все его просмотры за неделю и пытались сагрегировать аналогичные просмотры в будущей программе.\n",
    "3. Выбирали максимальные по количеству просмотров программы, которые пользователь просмотрел бы в будущем, если бы смотрел в том же режиме.\n",
    "4. Не хватающие позиции у пользователей добивались самыми популярными среди всех.\n",
    "5. Фильтрация шоу по тем, которые уже смотрел пользователь также увеличила скор.\n",
    "\n",
    "Private 0.42544 / 4 место\n",
    "\n",
    "Public 0.43511 / 4 место"
   ]
  },
  {
   "cell_type": "code",
   "execution_count": null,
   "metadata": {},
   "outputs": [],
   "source": []
  },
  {
   "cell_type": "code",
   "execution_count": 1,
   "metadata": {},
   "outputs": [],
   "source": [
    "import pandas as pd\n",
    "from pandas import Series, DataFrame\n",
    "\n",
    "import numpy as np\n",
    "\n",
    "import sys\n",
    "sys.path.append('../')\n",
    "\n",
    "import tqdm\n",
    "import joblib\n",
    "from movies_utils.nnet_sim import *\n",
    "from movies_utils.tv_utils import *"
   ]
  },
  {
   "cell_type": "code",
   "execution_count": 2,
   "metadata": {},
   "outputs": [
    {
     "name": "stdout",
     "output_type": "stream",
     "text": [
      "CPU times: user 28.3 s, sys: 3.59 s, total: 31.8 s\n",
      "Wall time: 31.8 s\n"
     ]
    }
   ],
   "source": [
    "%%time\n",
    "data = pd.read_csv('../channels/TV_program_AV/merged_log_with_show_ids_1119_new.csv')\n",
    "mapping = joblib.load('../channels/TV_program_AV/number_to_user_id.pickle')\n",
    "data['user_id'] = data['user_id'].map(mapping).values\n",
    "\n",
    "for col in ['session_start_time', 'session_stop_time', 'show_start_time', 'show_end_time']:\n",
    "    data[col] = data[col].astype(np.datetime64)\n",
    "    \n",
    "data['s_start_time'], data['s_end_time'] = create_wdts(data['session_start_time'], \n",
    "                                                       data['session_stop_time'])\n",
    "\n",
    "data['watch_duration'] = data[['session_stop_time', 'show_end_time']].min(axis=1) \\\n",
    "        - data[['session_start_time', 'show_start_time']].max(axis=1)\n",
    "\n",
    "data['watch_duration'] /= np.timedelta64(1, 's')\n",
    "data['watch_rate'] = data['watch_duration'] / data['show_duration'] "
   ]
  },
  {
   "cell_type": "code",
   "execution_count": 3,
   "metadata": {},
   "outputs": [
    {
     "name": "stderr",
     "output_type": "stream",
     "text": [
      "/usr/local/lib/python3.6/dist-packages/IPython/core/interactiveshell.py:3249: DtypeWarning: Columns (10) have mixed types.Specify dtype option on import or set low_memory=False.\n",
      "  if (await self.run_code(code, result,  async_=asy)):\n"
     ]
    }
   ],
   "source": [
    "prgs = get_programs('../channels/new_raw_data/export_arh_11-20-final.csv',\n",
    "'../channels/new_raw_data/export_arh_21-30-final.csv',\n",
    "'../channels/new_raw_data/export_arh_31-42-final.csv')"
   ]
  },
  {
   "cell_type": "code",
   "execution_count": 4,
   "metadata": {},
   "outputs": [],
   "source": [
    "baseline = data[data['watch_rate'] >= .5]\n",
    "baseline = baseline['tv_show_id'].value_counts()[:5].index.tolist()"
   ]
  },
  {
   "cell_type": "code",
   "execution_count": 5,
   "metadata": {},
   "outputs": [
    {
     "data": {
      "text/plain": [
       "[2400480, 240081, 12001682, 20088, 2400508]"
      ]
     },
     "execution_count": 5,
     "metadata": {},
     "output_type": "execute_result"
    }
   ],
   "source": [
    "baseline"
   ]
  },
  {
   "cell_type": "markdown",
   "metadata": {},
   "source": [
    "### VALIDATION PART"
   ]
  },
  {
   "cell_type": "code",
   "execution_count": 6,
   "metadata": {},
   "outputs": [],
   "source": [
    "train_co = prgs['valid']['start_time'].min()\n",
    "\n",
    "train = data[data['show_start_time'] <= train_co]\n",
    "valid = data[data['show_start_time'] > train_co]\n",
    "valid = valid[valid['user_id'].isin(set(train['user_id']))]"
   ]
  },
  {
   "cell_type": "code",
   "execution_count": 7,
   "metadata": {},
   "outputs": [],
   "source": [
    "valid_target = get_target(valid, watch_rate_co = .8, top_k = 5, add_empty=False)"
   ]
  },
  {
   "cell_type": "code",
   "execution_count": 8,
   "metadata": {},
   "outputs": [],
   "source": [
    "valid_pred = get_target(train, watch_rate_co = .8, top_k = 5, add_empty=True).loc[valid_target.index]"
   ]
  },
  {
   "cell_type": "code",
   "execution_count": 9,
   "metadata": {},
   "outputs": [
    {
     "data": {
      "text/plain": [
       "0.25450243866928735"
      ]
     },
     "execution_count": 9,
     "metadata": {},
     "output_type": "execute_result"
    }
   ],
   "source": [
    "map5(valid_target, get_pred_with_baseline(valid_pred, baseline))"
   ]
  },
  {
   "cell_type": "code",
   "execution_count": 10,
   "metadata": {},
   "outputs": [],
   "source": [
    "tr_short = train# [train.groupby('user_id')['session_start_time'].transform(lambda x: cut_hist(x, 45))]\n",
    "\n",
    "tr_short = tr_short[['user_id', 'channel_id', 's_start_time', 's_end_time']].drop_duplicates()\n",
    "prg_short = prgs['valid'][['channel_id', 'w_start_time', 'w_end_time', 'tv_show_id']]"
   ]
  },
  {
   "cell_type": "code",
   "execution_count": 11,
   "metadata": {},
   "outputs": [
    {
     "data": {
      "application/vnd.jupyter.widget-view+json": {
       "model_id": "663e7ddf1266488fa8810d044822ec21",
       "version_major": 2,
       "version_minor": 0
      },
      "text/plain": [
       "HBox(children=(FloatProgress(value=0.0, max=1613.0), HTML(value='')))"
      ]
     },
     "metadata": {},
     "output_type": "display_data"
    },
    {
     "name": "stdout",
     "output_type": "stream",
     "text": [
      "\n"
     ]
    }
   ],
   "source": [
    "merged = merge_batch(tr_short, prg_short, batch_size = 3)"
   ]
  },
  {
   "cell_type": "code",
   "execution_count": 12,
   "metadata": {},
   "outputs": [],
   "source": [
    "merged = process_merged(merged)"
   ]
  },
  {
   "cell_type": "code",
   "execution_count": 16,
   "metadata": {},
   "outputs": [],
   "source": [
    "def filter_merged(merged, vals = None, train = None, score = None):\n",
    "    if vals is None:\n",
    "        vals = []\n",
    "    merged = merged[merged['tv_show_id'].isin(vals)]\n",
    "    merged = merged[merged['rate'] > .5]\n",
    "    \n",
    "    train_scores = None\n",
    "    \n",
    "\n",
    "    \n",
    "    return merged"
   ]
  },
  {
   "cell_type": "code",
   "execution_count": 17,
   "metadata": {},
   "outputs": [],
   "source": [
    "merged_upd = filter_merged(merged, vals = set(train['tv_show_id']), train=train, score=score)"
   ]
  },
  {
   "cell_type": "code",
   "execution_count": 18,
   "metadata": {},
   "outputs": [
    {
     "data": {
      "text/plain": [
       "(2672034, 11)"
      ]
     },
     "execution_count": 18,
     "metadata": {},
     "output_type": "execute_result"
    }
   ],
   "source": [
    "merged_upd.shape"
   ]
  },
  {
   "cell_type": "code",
   "execution_count": 19,
   "metadata": {
    "collapsed": true
   },
   "outputs": [
    {
     "data": {
      "text/plain": [
       "20088        0.911765\n",
       "30066        1.416667\n",
       "30085        0.505882\n",
       "52641        1.000000\n",
       "90054        1.000000\n",
       "               ...   \n",
       "120082458    1.000000\n",
       "120082460    1.000000\n",
       "120082513    1.000000\n",
       "120082514    1.000000\n",
       "120082714    1.000000\n",
       "Name: tv_show_id, Length: 7361, dtype: float64"
      ]
     },
     "execution_count": 19,
     "metadata": {},
     "output_type": "execute_result"
    }
   ],
   "source": [
    "score"
   ]
  },
  {
   "cell_type": "code",
   "execution_count": 22,
   "metadata": {},
   "outputs": [],
   "source": [
    "new_pred = get_merged_pred(merged_upd, valid_pred.index)"
   ]
  },
  {
   "cell_type": "code",
   "execution_count": 24,
   "metadata": {},
   "outputs": [],
   "source": [
    "\n",
    "def get_merged_pred(merged, ids):\n",
    "    \n",
    "    merged = merged.copy()\n",
    "\n",
    "    merged = merged.sort_values('time', ascending=False)\n",
    "\n",
    "    grp = merged.groupby('user_id')['tv_show_id'].agg(lambda x: x.value_counts()[:5].index.tolist())\n",
    "    new_pred = grp.loc[[x for x in ids if x in grp.index]]\n",
    "    new_ids = list(set(ids) - set(new_pred.index))\n",
    "    add = Series([[]] * len(new_ids), index=new_ids)\n",
    "    new_pred = pd.concat([new_pred, add], axis=0).loc[ids]\n",
    "\n",
    "    return new_pred"
   ]
  },
  {
   "cell_type": "code",
   "execution_count": 25,
   "metadata": {},
   "outputs": [
    {
     "data": {
      "text/plain": [
       "0.2720026206595326"
      ]
     },
     "execution_count": 25,
     "metadata": {},
     "output_type": "execute_result"
    }
   ],
   "source": [
    "map5(valid_target, get_pred_with_baseline(new_pred, valid_pred, baseline))"
   ]
  },
  {
   "cell_type": "code",
   "execution_count": 26,
   "metadata": {},
   "outputs": [
    {
     "data": {
      "text/plain": [
       "0.23077091067918756"
      ]
     },
     "execution_count": 26,
     "metadata": {},
     "output_type": "execute_result"
    }
   ],
   "source": [
    "map5(valid_target, [baseline] * len(valid_target))"
   ]
  },
  {
   "cell_type": "code",
   "execution_count": 27,
   "metadata": {},
   "outputs": [],
   "source": [
    "blended = blend_predictions(new_pred, valid_pred)"
   ]
  },
  {
   "cell_type": "code",
   "execution_count": 28,
   "metadata": {},
   "outputs": [
    {
     "data": {
      "text/plain": [
       "0.26536361651015505"
      ]
     },
     "execution_count": 28,
     "metadata": {},
     "output_type": "execute_result"
    }
   ],
   "source": [
    "map5(valid_target, get_pred_with_baseline(blended, baseline))"
   ]
  },
  {
   "cell_type": "markdown",
   "metadata": {},
   "source": [
    "### TEST PART"
   ]
  },
  {
   "cell_type": "code",
   "execution_count": 48,
   "metadata": {},
   "outputs": [],
   "source": [
    "ss = pd.read_csv('../channels/new_raw_data/submission.csv')"
   ]
  },
  {
   "cell_type": "code",
   "execution_count": 49,
   "metadata": {},
   "outputs": [],
   "source": [
    "# valid prediction\n",
    "test_pred = get_target(data, add_empty=True, add_ids = [10246214960655461086, 16561743585370579180])"
   ]
  },
  {
   "cell_type": "code",
   "execution_count": 50,
   "metadata": {},
   "outputs": [],
   "source": [
    "test_pred = test_pred.loc[ss['user_id']]\n",
    "test_pred = get_pred_with_baseline(test_pred, baseline)\n",
    "ss['tv_show_id'] = [' '.join(map(str, x)) for x in test_pred]"
   ]
  },
  {
   "cell_type": "code",
   "execution_count": 51,
   "metadata": {},
   "outputs": [],
   "source": [
    "tr_short = data[['user_id', 'channel_id', 's_start_time', 's_end_time']].drop_duplicates()\n",
    "prg_short = prgs['test'][['channel_id', 'w_start_time', 'w_end_time', 'tv_show_id']]"
   ]
  },
  {
   "cell_type": "code",
   "execution_count": 52,
   "metadata": {},
   "outputs": [
    {
     "data": {
      "application/vnd.jupyter.widget-view+json": {
       "model_id": "aac9dc8ac5584288b25870885d5b2fa4",
       "version_major": 2,
       "version_minor": 0
      },
      "text/plain": [
       "HBox(children=(FloatProgress(value=0.0, max=1631.0), HTML(value='')))"
      ]
     },
     "metadata": {},
     "output_type": "display_data"
    },
    {
     "name": "stdout",
     "output_type": "stream",
     "text": [
      "\n"
     ]
    }
   ],
   "source": [
    "merged = merge_batch(tr_short, prg_short, batch_size = 3)"
   ]
  },
  {
   "cell_type": "code",
   "execution_count": 53,
   "metadata": {},
   "outputs": [],
   "source": [
    "merged = process_merged(merged)"
   ]
  },
  {
   "cell_type": "code",
   "execution_count": 54,
   "metadata": {},
   "outputs": [],
   "source": [
    "merged_upd = filter_merged(merged, vals = set(data['tv_show_id']), train = data)"
   ]
  },
  {
   "cell_type": "code",
   "execution_count": 55,
   "metadata": {},
   "outputs": [],
   "source": [
    "new_pred = get_merged_pred(merged_upd, ss['user_id'])"
   ]
  },
  {
   "cell_type": "code",
   "execution_count": 56,
   "metadata": {},
   "outputs": [],
   "source": [
    "ss['tv_show_id'] = [' '.join(map(str, x)) for x in new_pred]"
   ]
  },
  {
   "cell_type": "code",
   "execution_count": 57,
   "metadata": {},
   "outputs": [
    {
     "data": {
      "text/plain": [
       "user_id       0\n",
       "tv_show_id    0\n",
       "dtype: int64"
      ]
     },
     "execution_count": 57,
     "metadata": {},
     "output_type": "execute_result"
    }
   ],
   "source": [
    "ss.isnull().sum()"
   ]
  },
  {
   "cell_type": "code",
   "execution_count": 58,
   "metadata": {},
   "outputs": [],
   "source": [
    "ss.to_csv('with_empty_res_v0.csv', index=False)"
   ]
  },
  {
   "cell_type": "code",
   "execution_count": 59,
   "metadata": {},
   "outputs": [],
   "source": [
    "test_pred = get_pred_with_baseline(new_pred, baseline)"
   ]
  },
  {
   "cell_type": "code",
   "execution_count": 60,
   "metadata": {},
   "outputs": [],
   "source": [
    "ss['tv_show_id'] = [' '.join(map(str, x)) for x in test_pred]"
   ]
  },
  {
   "cell_type": "code",
   "execution_count": 61,
   "metadata": {},
   "outputs": [],
   "source": [
    "ss.to_csv('tv_prg_pred_v3.csv', index=False)"
   ]
  },
  {
   "cell_type": "code",
   "execution_count": null,
   "metadata": {},
   "outputs": [],
   "source": []
  },
  {
   "cell_type": "code",
   "execution_count": null,
   "metadata": {},
   "outputs": [],
   "source": []
  }
 ],
 "metadata": {
  "kernelspec": {
   "display_name": "Python 3",
   "language": "python",
   "name": "python3"
  },
  "language_info": {
   "codemirror_mode": {
    "name": "ipython",
    "version": 3
   },
   "file_extension": ".py",
   "mimetype": "text/x-python",
   "name": "python",
   "nbconvert_exporter": "python",
   "pygments_lexer": "ipython3",
   "version": "3.6.9"
  }
 },
 "nbformat": 4,
 "nbformat_minor": 2
}
